{
 "cells": [
  {
   "cell_type": "code",
   "execution_count": 21,
   "id": "da3f5d18",
   "metadata": {},
   "outputs": [
    {
     "data": {
      "text/plain": [
       "{1, 2, 32, 4, 5, 8, 'hello', 'hi'}"
      ]
     },
     "execution_count": 21,
     "metadata": {},
     "output_type": "execute_result"
    }
   ],
   "source": [
    "my_set={1,2,32,4,5,8,5,\"hi\",'hello'}\n",
    "my_set"
   ]
  },
  {
   "cell_type": "markdown",
   "id": "d12a9de8",
   "metadata": {},
   "source": [
    "\n",
    "my_set[2]\n",
    "myset[4]"
   ]
  },
  {
   "cell_type": "code",
   "execution_count": 22,
   "id": "6a5f25b7",
   "metadata": {},
   "outputs": [
    {
     "ename": "TypeError",
     "evalue": "'set' object does not support item assignment",
     "output_type": "error",
     "traceback": [
      "\u001b[1;31m---------------------------------------------------------------------------\u001b[0m",
      "\u001b[1;31mTypeError\u001b[0m                                 Traceback (most recent call last)",
      "\u001b[1;32m~\\AppData\\Local\\Temp/ipykernel_4264/2849244621.py\u001b[0m in \u001b[0;36m<module>\u001b[1;34m\u001b[0m\n\u001b[1;32m----> 1\u001b[1;33m \u001b[0mmy_set\u001b[0m\u001b[1;33m[\u001b[0m\u001b[1;36m0\u001b[0m\u001b[1;33m]\u001b[0m\u001b[1;33m=\u001b[0m\u001b[1;36m6\u001b[0m\u001b[1;33m\u001b[0m\u001b[1;33m\u001b[0m\u001b[0m\n\u001b[0m",
      "\u001b[1;31mTypeError\u001b[0m: 'set' object does not support item assignment"
     ]
    }
   ],
   "source": [
    "my_set[0]=6"
   ]
  },
  {
   "cell_type": "code",
   "execution_count": null,
   "id": "6dde3ec6",
   "metadata": {},
   "outputs": [],
   "source": [
    "my_set"
   ]
  },
  {
   "cell_type": "code",
   "execution_count": null,
   "id": "8129cdee",
   "metadata": {},
   "outputs": [],
   "source": [
    "my_set[1]=22"
   ]
  },
  {
   "cell_type": "code",
   "execution_count": null,
   "id": "470b3164",
   "metadata": {},
   "outputs": [],
   "source": [
    "my_set.remove(5)"
   ]
  },
  {
   "cell_type": "code",
   "execution_count": null,
   "id": "081c7413",
   "metadata": {},
   "outputs": [],
   "source": [
    "my_set"
   ]
  },
  {
   "cell_type": "code",
   "execution_count": null,
   "id": "77a81f25",
   "metadata": {},
   "outputs": [],
   "source": [
    "my_set.add(5)\n",
    "my_set"
   ]
  },
  {
   "cell_type": "markdown",
   "id": "f54b4912",
   "metadata": {},
   "source": [
    "#### set cannot be rretrieved\n",
    "#### it does not allow duplicates"
   ]
  },
  {
   "cell_type": "code",
   "execution_count": null,
   "id": "ada75240",
   "metadata": {},
   "outputs": [],
   "source": [
    "my_dict={1:\"first\",2:\"won\",3:\"won\",\"for\":\"first\",1:\"how\"}\n",
    "my_dict"
   ]
  },
  {
   "cell_type": "markdown",
   "id": "f425a20a",
   "metadata": {},
   "source": [
    "my_dict[3]"
   ]
  },
  {
   "cell_type": "code",
   "execution_count": null,
   "id": "9bedaeea",
   "metadata": {},
   "outputs": [],
   "source": [
    "my_dict[3]"
   ]
  },
  {
   "cell_type": "code",
   "execution_count": null,
   "id": "b9b2d59f",
   "metadata": {},
   "outputs": [],
   "source": [
    "my_dict[\"won\"]"
   ]
  },
  {
   "cell_type": "code",
   "execution_count": null,
   "id": "a1fa00c1",
   "metadata": {},
   "outputs": [],
   "source": [
    "my_dict.update({\"q\":\"op\"})\n",
    "my_dict"
   ]
  },
  {
   "cell_type": "markdown",
   "id": "66d6bfb2",
   "metadata": {},
   "source": [
    "#### dictionary can be updated\n",
    "#### dictionaries have key values"
   ]
  },
  {
   "cell_type": "code",
   "execution_count": null,
   "id": "c5f50683",
   "metadata": {},
   "outputs": [],
   "source": []
  },
  {
   "cell_type": "code",
   "execution_count": null,
   "id": "046a8b62",
   "metadata": {},
   "outputs": [],
   "source": []
  },
  {
   "cell_type": "code",
   "execution_count": null,
   "id": "c26e81a6",
   "metadata": {},
   "outputs": [],
   "source": []
  }
 ],
 "metadata": {
  "kernelspec": {
   "display_name": "Python 3 (ipykernel)",
   "language": "python",
   "name": "python3"
  },
  "language_info": {
   "codemirror_mode": {
    "name": "ipython",
    "version": 3
   },
   "file_extension": ".py",
   "mimetype": "text/x-python",
   "name": "python",
   "nbconvert_exporter": "python",
   "pygments_lexer": "ipython3",
   "version": "3.9.7"
  }
 },
 "nbformat": 4,
 "nbformat_minor": 5
}
